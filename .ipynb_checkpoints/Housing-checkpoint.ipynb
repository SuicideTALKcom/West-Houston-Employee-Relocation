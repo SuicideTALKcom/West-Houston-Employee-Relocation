{
 "cells": [
  {
   "cell_type": "code",
   "execution_count": 2,
   "metadata": {},
   "outputs": [
    {
     "data": {
      "text/html": [
       "<div>\n",
       "<style scoped>\n",
       "    .dataframe tbody tr th:only-of-type {\n",
       "        vertical-align: middle;\n",
       "    }\n",
       "\n",
       "    .dataframe tbody tr th {\n",
       "        vertical-align: top;\n",
       "    }\n",
       "\n",
       "    .dataframe thead th {\n",
       "        text-align: right;\n",
       "    }\n",
       "</style>\n",
       "<table border=\"1\" class=\"dataframe\">\n",
       "  <thead>\n",
       "    <tr style=\"text-align: right;\">\n",
       "      <th></th>\n",
       "      <th>zipcode</th>\n",
       "      <th>latitude</th>\n",
       "      <th>longitude</th>\n",
       "      <th>state</th>\n",
       "      <th>city</th>\n",
       "    </tr>\n",
       "  </thead>\n",
       "  <tbody>\n",
       "    <tr>\n",
       "      <th>0</th>\n",
       "      <td>77024</td>\n",
       "      <td>29.769581</td>\n",
       "      <td>-95.520065</td>\n",
       "      <td>TX</td>\n",
       "      <td>HOUSTON</td>\n",
       "    </tr>\n",
       "    <tr>\n",
       "      <th>1</th>\n",
       "      <td>77031</td>\n",
       "      <td>29.658144</td>\n",
       "      <td>-95.541283</td>\n",
       "      <td>TX</td>\n",
       "      <td>HOUSTON</td>\n",
       "    </tr>\n",
       "    <tr>\n",
       "      <th>2</th>\n",
       "      <td>77036</td>\n",
       "      <td>29.698446</td>\n",
       "      <td>-95.540466</td>\n",
       "      <td>TX</td>\n",
       "      <td>HOUSTON</td>\n",
       "    </tr>\n",
       "    <tr>\n",
       "      <th>3</th>\n",
       "      <td>77040</td>\n",
       "      <td>29.879614</td>\n",
       "      <td>-95.529968</td>\n",
       "      <td>TX</td>\n",
       "      <td>HOUSTON</td>\n",
       "    </tr>\n",
       "    <tr>\n",
       "      <th>4</th>\n",
       "      <td>77041</td>\n",
       "      <td>29.860188</td>\n",
       "      <td>-95.581665</td>\n",
       "      <td>TX</td>\n",
       "      <td>HOUSTON</td>\n",
       "    </tr>\n",
       "  </tbody>\n",
       "</table>\n",
       "</div>"
      ],
      "text/plain": [
       "   zipcode   latitude  longitude state     city\n",
       "0    77024  29.769581 -95.520065    TX  HOUSTON\n",
       "1    77031  29.658144 -95.541283    TX  HOUSTON\n",
       "2    77036  29.698446 -95.540466    TX  HOUSTON\n",
       "3    77040  29.879614 -95.529968    TX  HOUSTON\n",
       "4    77041  29.860188 -95.581665    TX  HOUSTON"
      ]
     },
     "execution_count": 2,
     "metadata": {},
     "output_type": "execute_result"
    }
   ],
   "source": [
    "# Dependencies and setup\n",
    "import os\n",
    "import pandas as pd\n",
    "import numpy as np\n",
    "import requests\n",
    "import time\n",
    "import json\n",
    "import csv\n",
    "\n",
    "# Read CSV file\n",
    "# Zip codes from 10 mile radius of 77079 center\n",
    "# Create a zip code data frame\n",
    "\n",
    "zip_codes_df = pd.read_csv(\"zipcodesWH.csv\")\n",
    "zip_codes_df.head()"
   ]
  },
  {
   "cell_type": "code",
   "execution_count": 5,
   "metadata": {},
   "outputs": [
    {
     "data": {
      "text/html": [
       "<div>\n",
       "<style scoped>\n",
       "    .dataframe tbody tr th:only-of-type {\n",
       "        vertical-align: middle;\n",
       "    }\n",
       "\n",
       "    .dataframe tbody tr th {\n",
       "        vertical-align: top;\n",
       "    }\n",
       "\n",
       "    .dataframe thead th {\n",
       "        text-align: right;\n",
       "    }\n",
       "</style>\n",
       "<table border=\"1\" class=\"dataframe\">\n",
       "  <thead>\n",
       "    <tr style=\"text-align: right;\">\n",
       "      <th></th>\n",
       "    </tr>\n",
       "    <tr>\n",
       "      <th>zipcode</th>\n",
       "    </tr>\n",
       "  </thead>\n",
       "  <tbody>\n",
       "    <tr>\n",
       "      <th>77024</th>\n",
       "    </tr>\n",
       "    <tr>\n",
       "      <th>77031</th>\n",
       "    </tr>\n",
       "    <tr>\n",
       "      <th>77036</th>\n",
       "    </tr>\n",
       "    <tr>\n",
       "      <th>77040</th>\n",
       "    </tr>\n",
       "    <tr>\n",
       "      <th>77041</th>\n",
       "    </tr>\n",
       "  </tbody>\n",
       "</table>\n",
       "</div>"
      ],
      "text/plain": [
       "Empty DataFrame\n",
       "Columns: []\n",
       "Index: [77024, 77031, 77036, 77040, 77041]"
      ]
     },
     "execution_count": 5,
     "metadata": {},
     "output_type": "execute_result"
    }
   ],
   "source": [
    "# Set index of data frame to be \"zipcode\"\n",
    "zip_codes_df.drop(zip_codes_df.columns[4], axis=1, inplace=True)\n",
    "zip_codes_df.drop(zip_codes_df.columns[3], axis=1, inplace=True)\n",
    "zip_codes_df.drop(zip_codes_df.columns[2], axis=1, inplace=True)\n",
    "zip_codes_df.drop(zip_codes_df.columns[1], axis=1, inplace=True)\n",
    "zip_codes_df.set_index(\"zipcode\").head()"
   ]
  },
  {
   "cell_type": "code",
   "execution_count": 66,
   "metadata": {},
   "outputs": [
    {
     "name": "stdout",
     "output_type": "stream",
     "text": [
      "50\n"
     ]
    }
   ],
   "source": [
    "# Calculate the total number of zip codes\n",
    "\n",
    "print(zip_codes_df[\"zipcode\"].count())"
   ]
  },
  {
   "cell_type": "code",
   "execution_count": 67,
   "metadata": {},
   "outputs": [],
   "source": [
    "# Initialize the API\n",
    "\n",
    "import zillow\n",
    "\n",
    "with open(\"./api-keys.py\", \"r\") as f:\n",
    "    key = f.readline().replace(\"\\n\", \"\")\n",
    "    \n",
    "api = zillow.ValuationApi()"
   ]
  },
  {
   "cell_type": "code",
   "execution_count": 68,
   "metadata": {},
   "outputs": [],
   "source": [
    "# Zillow API Test 1 - find a place given an address (must be a curent home for sale)\n",
    "\n",
    "address = \"4337 Marina City Dr UNIT 1041 Marina Del Rey, CA\"\n",
    "postal_code = \"90292\"\n",
    "\n",
    "data = api.GetDeepSearchResults(key, address, postal_code)"
   ]
  },
  {
   "cell_type": "code",
   "execution_count": 69,
   "metadata": {},
   "outputs": [],
   "source": [
    "# Zillow API Test 2 - Find place using a zillow place id (must be a curent home for sale)\n",
    "\n",
    "zpid=\"2085821797\"\n",
    "\n",
    "detail_data = api.GetZEstimate(key, zpid)"
   ]
  },
  {
   "cell_type": "code",
   "execution_count": 70,
   "metadata": {},
   "outputs": [],
   "source": [
    "# Zillow API Test 3 - Find comparables (must be a curent home for sale)\n",
    "\n",
    "zpid=\"2085821797\"\n",
    "\n",
    "detail_data = api.GetComps(key, zpid)"
   ]
  },
  {
   "cell_type": "code",
   "execution_count": 71,
   "metadata": {},
   "outputs": [],
   "source": [
    "# Zillow API Test 4 - Get deep search results (must be a curent home for sale)\n",
    "\n",
    "address = \"4337 Marina City Dr UNIT 1041 Marina Del Rey, CA\"\n",
    "postal_code = \"90292\"\n",
    "\n",
    "data = api.GetDeepSearchResults(key, address, postal_code)"
   ]
  },
  {
   "cell_type": "code",
   "execution_count": 72,
   "metadata": {},
   "outputs": [],
   "source": [
    "# Zillow API Test 5 - Get deep comps (must be a curent home for sale)\n",
    "\n",
    "zws_id = \"X1-ZWz1gxd46pntaj_3csw9\"\n",
    "zpid = \"2085821797\"\n",
    "count = 10\n",
    "\n",
    "data = data = api.GetDeepComps(zws_id, zpid, count)"
   ]
  },
  {
   "cell_type": "code",
   "execution_count": null,
   "metadata": {},
   "outputs": [],
   "source": []
  }
 ],
 "metadata": {
  "kernelspec": {
   "display_name": "Python 3",
   "language": "python",
   "name": "python3"
  },
  "language_info": {
   "codemirror_mode": {
    "name": "ipython",
    "version": 3
   },
   "file_extension": ".py",
   "mimetype": "text/x-python",
   "name": "python",
   "nbconvert_exporter": "python",
   "pygments_lexer": "ipython3",
   "version": "3.7.0"
  }
 },
 "nbformat": 4,
 "nbformat_minor": 2
}
